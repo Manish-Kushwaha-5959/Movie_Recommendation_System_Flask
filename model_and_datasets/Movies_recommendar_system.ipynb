{
 "cells": [
  {
   "cell_type": "markdown",
   "id": "2160bc9f-7736-4bf3-821f-52aca2cc3179",
   "metadata": {},
   "source": [
    "# Preprocessing"
   ]
  },
  {
   "cell_type": "code",
   "execution_count": 66,
   "id": "26ad5704-10b7-4d7b-9e06-d457b3a5e679",
   "metadata": {},
   "outputs": [],
   "source": [
    "import pandas as pd\n",
    "import numpy as np"
   ]
  },
  {
   "cell_type": "code",
   "execution_count": 67,
   "id": "5ac8e672-2acf-4373-98e0-ec53fcce34a8",
   "metadata": {},
   "outputs": [],
   "source": [
    "# Uploading dataset\n",
    "movies = pd.read_csv(\"tmdb_5000_movies.csv\")\n",
    "credits = pd.read_csv(\"tmdb_5000_credits.csv\")"
   ]
  },
  {
   "cell_type": "raw",
   "id": "6efd2433-3b67-4042-a9b0-12ef5c43a485",
   "metadata": {},
   "source": [
    "movies.head(1)"
   ]
  },
  {
   "cell_type": "code",
   "execution_count": 68,
   "id": "502e0e6f-bc72-47bd-ba6d-d7e3d9d07693",
   "metadata": {},
   "outputs": [],
   "source": [
    "# taking important features\n",
    "imp_features = [\"title\", \"genres\", \"keywords\", \"overview\", \"production_companies\"]\n",
    "movies = movies[imp_features]"
   ]
  },
  {
   "cell_type": "code",
   "execution_count": 69,
   "id": "59ec89e4-935a-45aa-88a1-9a22f9e1db27",
   "metadata": {},
   "outputs": [
    {
     "data": {
      "text/html": [
       "<div>\n",
       "<style scoped>\n",
       "    .dataframe tbody tr th:only-of-type {\n",
       "        vertical-align: middle;\n",
       "    }\n",
       "\n",
       "    .dataframe tbody tr th {\n",
       "        vertical-align: top;\n",
       "    }\n",
       "\n",
       "    .dataframe thead th {\n",
       "        text-align: right;\n",
       "    }\n",
       "</style>\n",
       "<table border=\"1\" class=\"dataframe\">\n",
       "  <thead>\n",
       "    <tr style=\"text-align: right;\">\n",
       "      <th></th>\n",
       "      <th>movie_id</th>\n",
       "      <th>title</th>\n",
       "      <th>cast</th>\n",
       "      <th>crew</th>\n",
       "    </tr>\n",
       "  </thead>\n",
       "  <tbody>\n",
       "    <tr>\n",
       "      <th>0</th>\n",
       "      <td>19995</td>\n",
       "      <td>Avatar</td>\n",
       "      <td>[{\"cast_id\": 242, \"character\": \"Jake Sully\", \"...</td>\n",
       "      <td>[{\"credit_id\": \"52fe48009251416c750aca23\", \"de...</td>\n",
       "    </tr>\n",
       "  </tbody>\n",
       "</table>\n",
       "</div>"
      ],
      "text/plain": [
       "   movie_id   title                                               cast  \\\n",
       "0     19995  Avatar  [{\"cast_id\": 242, \"character\": \"Jake Sully\", \"...   \n",
       "\n",
       "                                                crew  \n",
       "0  [{\"credit_id\": \"52fe48009251416c750aca23\", \"de...  "
      ]
     },
     "execution_count": 69,
     "metadata": {},
     "output_type": "execute_result"
    }
   ],
   "source": [
    "credits.head(1)"
   ]
  },
  {
   "cell_type": "code",
   "execution_count": 70,
   "id": "3c612d5e-0c14-4e83-8976-419bf64b560f",
   "metadata": {},
   "outputs": [
    {
     "data": {
      "text/html": [
       "<div>\n",
       "<style scoped>\n",
       "    .dataframe tbody tr th:only-of-type {\n",
       "        vertical-align: middle;\n",
       "    }\n",
       "\n",
       "    .dataframe tbody tr th {\n",
       "        vertical-align: top;\n",
       "    }\n",
       "\n",
       "    .dataframe thead th {\n",
       "        text-align: right;\n",
       "    }\n",
       "</style>\n",
       "<table border=\"1\" class=\"dataframe\">\n",
       "  <thead>\n",
       "    <tr style=\"text-align: right;\">\n",
       "      <th></th>\n",
       "      <th>title</th>\n",
       "      <th>genres</th>\n",
       "      <th>keywords</th>\n",
       "      <th>overview</th>\n",
       "      <th>production_companies</th>\n",
       "      <th>movie_id</th>\n",
       "      <th>cast</th>\n",
       "      <th>crew</th>\n",
       "    </tr>\n",
       "  </thead>\n",
       "  <tbody>\n",
       "    <tr>\n",
       "      <th>0</th>\n",
       "      <td>Avatar</td>\n",
       "      <td>[{\"id\": 28, \"name\": \"Action\"}, {\"id\": 12, \"nam...</td>\n",
       "      <td>[{\"id\": 1463, \"name\": \"culture clash\"}, {\"id\":...</td>\n",
       "      <td>In the 22nd century, a paraplegic Marine is di...</td>\n",
       "      <td>[{\"name\": \"Ingenious Film Partners\", \"id\": 289...</td>\n",
       "      <td>19995</td>\n",
       "      <td>[{\"cast_id\": 242, \"character\": \"Jake Sully\", \"...</td>\n",
       "      <td>[{\"credit_id\": \"52fe48009251416c750aca23\", \"de...</td>\n",
       "    </tr>\n",
       "  </tbody>\n",
       "</table>\n",
       "</div>"
      ],
      "text/plain": [
       "    title                                             genres  \\\n",
       "0  Avatar  [{\"id\": 28, \"name\": \"Action\"}, {\"id\": 12, \"nam...   \n",
       "\n",
       "                                            keywords  \\\n",
       "0  [{\"id\": 1463, \"name\": \"culture clash\"}, {\"id\":...   \n",
       "\n",
       "                                            overview  \\\n",
       "0  In the 22nd century, a paraplegic Marine is di...   \n",
       "\n",
       "                                production_companies  movie_id  \\\n",
       "0  [{\"name\": \"Ingenious Film Partners\", \"id\": 289...     19995   \n",
       "\n",
       "                                                cast  \\\n",
       "0  [{\"cast_id\": 242, \"character\": \"Jake Sully\", \"...   \n",
       "\n",
       "                                                crew  \n",
       "0  [{\"credit_id\": \"52fe48009251416c750aca23\", \"de...  "
      ]
     },
     "execution_count": 70,
     "metadata": {},
     "output_type": "execute_result"
    }
   ],
   "source": [
    "movies = movies.merge(credits, on=\"title\")\n",
    "movies.head(1)"
   ]
  },
  {
   "cell_type": "code",
   "execution_count": 71,
   "id": "923369de-41d5-4a24-879a-f91592ed1aa0",
   "metadata": {},
   "outputs": [],
   "source": [
    "movies[\"overview\"] = movies[\"overview\"].replace(np.nan, \"\")"
   ]
  },
  {
   "cell_type": "code",
   "execution_count": 72,
   "id": "4d5fe500-9cbd-4592-abcd-d80be9bd7c90",
   "metadata": {},
   "outputs": [
    {
     "data": {
      "text/plain": [
       "'[{\"id\": 28, \"name\": \"Action\"}, {\"id\": 12, \"name\": \"Adventure\"}, {\"id\": 14, \"name\": \"Fantasy\"}, {\"id\": 878, \"name\": \"Science Fiction\"}]'"
      ]
     },
     "execution_count": 72,
     "metadata": {},
     "output_type": "execute_result"
    }
   ],
   "source": [
    "movies.genres[0]"
   ]
  },
  {
   "cell_type": "code",
   "execution_count": 73,
   "id": "4feafcf0-daef-48d1-b022-40c06e438467",
   "metadata": {},
   "outputs": [],
   "source": [
    "import ast\n",
    "\n",
    "def convert(l):\n",
    "    l = ast.literal_eval(l)\n",
    "    ans = []\n",
    "    for i in l:\n",
    "        ans.append(i[\"name\"])\n",
    "    return ans"
   ]
  },
  {
   "cell_type": "code",
   "execution_count": 74,
   "id": "4196cc57-3e4e-4862-8779-801afdaaba31",
   "metadata": {},
   "outputs": [],
   "source": [
    "movies.genres = movies.genres.apply(convert)"
   ]
  },
  {
   "cell_type": "code",
   "execution_count": 75,
   "id": "77d3cf26-c8d1-4b19-9be8-23b235bb0ff1",
   "metadata": {},
   "outputs": [],
   "source": [
    "movies.keywords = movies.keywords.apply(convert)"
   ]
  },
  {
   "cell_type": "code",
   "execution_count": 76,
   "id": "7ec552c6-656d-411b-8176-a5b99d6e875f",
   "metadata": {},
   "outputs": [],
   "source": [
    "movies.overview = movies.overview.apply(lambda x: x.split(\" \"))"
   ]
  },
  {
   "cell_type": "code",
   "execution_count": 77,
   "id": "445a12cc-1304-4dde-96dc-241ab4ad99ad",
   "metadata": {},
   "outputs": [],
   "source": [
    "movies.production_companies = movies.production_companies.apply(convert)"
   ]
  },
  {
   "cell_type": "code",
   "execution_count": 78,
   "id": "7b33482d-4fd9-4b01-9b65-1ac2b2e2761a",
   "metadata": {},
   "outputs": [],
   "source": [
    "def convert_cast(l):\n",
    "    l = ast.literal_eval(l)\n",
    "    count = 0\n",
    "    ans = []\n",
    "    for i in l:\n",
    "        if count == 5:\n",
    "            return ans\n",
    "        ans.append(i[\"name\"])\n",
    "        count += 1\n",
    "    return ans"
   ]
  },
  {
   "cell_type": "code",
   "execution_count": 79,
   "id": "3e3207ba-2612-4142-9efc-f4f488ab69ef",
   "metadata": {},
   "outputs": [],
   "source": [
    "movies.cast = movies.cast.apply(convert_cast)"
   ]
  },
  {
   "cell_type": "code",
   "execution_count": 80,
   "id": "b161b04e-e44c-47c7-b0fa-222b5d6e8c6f",
   "metadata": {},
   "outputs": [],
   "source": [
    "def convert_crew(l):\n",
    "    l = ast.literal_eval(l)\n",
    "    for i in l:\n",
    "        if i[\"job\"] == \"Director\":\n",
    "            return i[\"name\"]\n",
    "    return \"\""
   ]
  },
  {
   "cell_type": "code",
   "execution_count": 81,
   "id": "497c3de1-3691-48e2-b2b0-d62bc7cf4d3a",
   "metadata": {},
   "outputs": [],
   "source": [
    "movies.crew = movies.crew.apply(convert_crew)"
   ]
  },
  {
   "cell_type": "code",
   "execution_count": 82,
   "id": "9b9c33e1-f878-4ddd-99ed-02aebdb8d053",
   "metadata": {},
   "outputs": [
    {
     "data": {
      "text/html": [
       "<div>\n",
       "<style scoped>\n",
       "    .dataframe tbody tr th:only-of-type {\n",
       "        vertical-align: middle;\n",
       "    }\n",
       "\n",
       "    .dataframe tbody tr th {\n",
       "        vertical-align: top;\n",
       "    }\n",
       "\n",
       "    .dataframe thead th {\n",
       "        text-align: right;\n",
       "    }\n",
       "</style>\n",
       "<table border=\"1\" class=\"dataframe\">\n",
       "  <thead>\n",
       "    <tr style=\"text-align: right;\">\n",
       "      <th></th>\n",
       "      <th>title</th>\n",
       "      <th>genres</th>\n",
       "      <th>keywords</th>\n",
       "      <th>overview</th>\n",
       "      <th>production_companies</th>\n",
       "      <th>movie_id</th>\n",
       "      <th>cast</th>\n",
       "      <th>crew</th>\n",
       "    </tr>\n",
       "  </thead>\n",
       "  <tbody>\n",
       "    <tr>\n",
       "      <th>0</th>\n",
       "      <td>Avatar</td>\n",
       "      <td>[Action, Adventure, Fantasy, Science Fiction]</td>\n",
       "      <td>[culture clash, future, space war, space colon...</td>\n",
       "      <td>[In, the, 22nd, century,, a, paraplegic, Marin...</td>\n",
       "      <td>[Ingenious Film Partners, Twentieth Century Fo...</td>\n",
       "      <td>19995</td>\n",
       "      <td>[Sam Worthington, Zoe Saldana, Sigourney Weave...</td>\n",
       "      <td>James Cameron</td>\n",
       "    </tr>\n",
       "    <tr>\n",
       "      <th>1</th>\n",
       "      <td>Pirates of the Caribbean: At World's End</td>\n",
       "      <td>[Adventure, Fantasy, Action]</td>\n",
       "      <td>[ocean, drug abuse, exotic island, east india ...</td>\n",
       "      <td>[Captain, Barbossa,, long, believed, to, be, d...</td>\n",
       "      <td>[Walt Disney Pictures, Jerry Bruckheimer Films...</td>\n",
       "      <td>285</td>\n",
       "      <td>[Johnny Depp, Orlando Bloom, Keira Knightley, ...</td>\n",
       "      <td>Gore Verbinski</td>\n",
       "    </tr>\n",
       "    <tr>\n",
       "      <th>2</th>\n",
       "      <td>Spectre</td>\n",
       "      <td>[Action, Adventure, Crime]</td>\n",
       "      <td>[spy, based on novel, secret agent, sequel, mi...</td>\n",
       "      <td>[A, cryptic, message, from, Bond’s, past, send...</td>\n",
       "      <td>[Columbia Pictures, Danjaq, B24]</td>\n",
       "      <td>206647</td>\n",
       "      <td>[Daniel Craig, Christoph Waltz, Léa Seydoux, R...</td>\n",
       "      <td>Sam Mendes</td>\n",
       "    </tr>\n",
       "    <tr>\n",
       "      <th>3</th>\n",
       "      <td>The Dark Knight Rises</td>\n",
       "      <td>[Action, Crime, Drama, Thriller]</td>\n",
       "      <td>[dc comics, crime fighter, terrorist, secret i...</td>\n",
       "      <td>[Following, the, death, of, District, Attorney...</td>\n",
       "      <td>[Legendary Pictures, Warner Bros., DC Entertai...</td>\n",
       "      <td>49026</td>\n",
       "      <td>[Christian Bale, Michael Caine, Gary Oldman, A...</td>\n",
       "      <td>Christopher Nolan</td>\n",
       "    </tr>\n",
       "    <tr>\n",
       "      <th>4</th>\n",
       "      <td>John Carter</td>\n",
       "      <td>[Action, Adventure, Science Fiction]</td>\n",
       "      <td>[based on novel, mars, medallion, space travel...</td>\n",
       "      <td>[John, Carter, is, a, war-weary,, former, mili...</td>\n",
       "      <td>[Walt Disney Pictures]</td>\n",
       "      <td>49529</td>\n",
       "      <td>[Taylor Kitsch, Lynn Collins, Samantha Morton,...</td>\n",
       "      <td>Andrew Stanton</td>\n",
       "    </tr>\n",
       "  </tbody>\n",
       "</table>\n",
       "</div>"
      ],
      "text/plain": [
       "                                      title  \\\n",
       "0                                    Avatar   \n",
       "1  Pirates of the Caribbean: At World's End   \n",
       "2                                   Spectre   \n",
       "3                     The Dark Knight Rises   \n",
       "4                               John Carter   \n",
       "\n",
       "                                          genres  \\\n",
       "0  [Action, Adventure, Fantasy, Science Fiction]   \n",
       "1                   [Adventure, Fantasy, Action]   \n",
       "2                     [Action, Adventure, Crime]   \n",
       "3               [Action, Crime, Drama, Thriller]   \n",
       "4           [Action, Adventure, Science Fiction]   \n",
       "\n",
       "                                            keywords  \\\n",
       "0  [culture clash, future, space war, space colon...   \n",
       "1  [ocean, drug abuse, exotic island, east india ...   \n",
       "2  [spy, based on novel, secret agent, sequel, mi...   \n",
       "3  [dc comics, crime fighter, terrorist, secret i...   \n",
       "4  [based on novel, mars, medallion, space travel...   \n",
       "\n",
       "                                            overview  \\\n",
       "0  [In, the, 22nd, century,, a, paraplegic, Marin...   \n",
       "1  [Captain, Barbossa,, long, believed, to, be, d...   \n",
       "2  [A, cryptic, message, from, Bond’s, past, send...   \n",
       "3  [Following, the, death, of, District, Attorney...   \n",
       "4  [John, Carter, is, a, war-weary,, former, mili...   \n",
       "\n",
       "                                production_companies  movie_id  \\\n",
       "0  [Ingenious Film Partners, Twentieth Century Fo...     19995   \n",
       "1  [Walt Disney Pictures, Jerry Bruckheimer Films...       285   \n",
       "2                   [Columbia Pictures, Danjaq, B24]    206647   \n",
       "3  [Legendary Pictures, Warner Bros., DC Entertai...     49026   \n",
       "4                             [Walt Disney Pictures]     49529   \n",
       "\n",
       "                                                cast               crew  \n",
       "0  [Sam Worthington, Zoe Saldana, Sigourney Weave...      James Cameron  \n",
       "1  [Johnny Depp, Orlando Bloom, Keira Knightley, ...     Gore Verbinski  \n",
       "2  [Daniel Craig, Christoph Waltz, Léa Seydoux, R...         Sam Mendes  \n",
       "3  [Christian Bale, Michael Caine, Gary Oldman, A...  Christopher Nolan  \n",
       "4  [Taylor Kitsch, Lynn Collins, Samantha Morton,...     Andrew Stanton  "
      ]
     },
     "execution_count": 82,
     "metadata": {},
     "output_type": "execute_result"
    }
   ],
   "source": [
    "movies.head()"
   ]
  },
  {
   "cell_type": "code",
   "execution_count": 83,
   "id": "fa9120b1-169c-4739-b4f2-ce93e79fdf13",
   "metadata": {},
   "outputs": [
    {
     "data": {
      "text/html": [
       "<div>\n",
       "<style scoped>\n",
       "    .dataframe tbody tr th:only-of-type {\n",
       "        vertical-align: middle;\n",
       "    }\n",
       "\n",
       "    .dataframe tbody tr th {\n",
       "        vertical-align: top;\n",
       "    }\n",
       "\n",
       "    .dataframe thead th {\n",
       "        text-align: right;\n",
       "    }\n",
       "</style>\n",
       "<table border=\"1\" class=\"dataframe\">\n",
       "  <thead>\n",
       "    <tr style=\"text-align: right;\">\n",
       "      <th></th>\n",
       "      <th>title</th>\n",
       "      <th>genres</th>\n",
       "      <th>keywords</th>\n",
       "      <th>overview</th>\n",
       "      <th>production_companies</th>\n",
       "      <th>movie_id</th>\n",
       "      <th>cast</th>\n",
       "      <th>crew</th>\n",
       "    </tr>\n",
       "  </thead>\n",
       "  <tbody>\n",
       "    <tr>\n",
       "      <th>0</th>\n",
       "      <td>Avatar</td>\n",
       "      <td>[Action, Adventure, Fantasy, ScienceFiction]</td>\n",
       "      <td>[cultureclash, future, spacewar, spacecolony, ...</td>\n",
       "      <td>[In, the, 22nd, century,, a, paraplegic, Marin...</td>\n",
       "      <td>[IngeniousFilmPartners, TwentiethCenturyFoxFil...</td>\n",
       "      <td>19995</td>\n",
       "      <td>[SamWorthington, ZoeSaldana, SigourneyWeaver, ...</td>\n",
       "      <td>JamesCameron</td>\n",
       "    </tr>\n",
       "    <tr>\n",
       "      <th>1</th>\n",
       "      <td>Pirates of the Caribbean: At World's End</td>\n",
       "      <td>[Adventure, Fantasy, Action]</td>\n",
       "      <td>[ocean, drugabuse, exoticisland, eastindiatrad...</td>\n",
       "      <td>[Captain, Barbossa,, long, believed, to, be, d...</td>\n",
       "      <td>[WaltDisneyPictures, JerryBruckheimerFilms, Se...</td>\n",
       "      <td>285</td>\n",
       "      <td>[JohnnyDepp, OrlandoBloom, KeiraKnightley, Ste...</td>\n",
       "      <td>GoreVerbinski</td>\n",
       "    </tr>\n",
       "    <tr>\n",
       "      <th>2</th>\n",
       "      <td>Spectre</td>\n",
       "      <td>[Action, Adventure, Crime]</td>\n",
       "      <td>[spy, basedonnovel, secretagent, sequel, mi6, ...</td>\n",
       "      <td>[A, cryptic, message, from, Bond’s, past, send...</td>\n",
       "      <td>[ColumbiaPictures, Danjaq, B24]</td>\n",
       "      <td>206647</td>\n",
       "      <td>[DanielCraig, ChristophWaltz, LéaSeydoux, Ralp...</td>\n",
       "      <td>SamMendes</td>\n",
       "    </tr>\n",
       "    <tr>\n",
       "      <th>3</th>\n",
       "      <td>The Dark Knight Rises</td>\n",
       "      <td>[Action, Crime, Drama, Thriller]</td>\n",
       "      <td>[dccomics, crimefighter, terrorist, secretiden...</td>\n",
       "      <td>[Following, the, death, of, District, Attorney...</td>\n",
       "      <td>[LegendaryPictures, WarnerBros., DCEntertainme...</td>\n",
       "      <td>49026</td>\n",
       "      <td>[ChristianBale, MichaelCaine, GaryOldman, Anne...</td>\n",
       "      <td>ChristopherNolan</td>\n",
       "    </tr>\n",
       "    <tr>\n",
       "      <th>4</th>\n",
       "      <td>John Carter</td>\n",
       "      <td>[Action, Adventure, ScienceFiction]</td>\n",
       "      <td>[basedonnovel, mars, medallion, spacetravel, p...</td>\n",
       "      <td>[John, Carter, is, a, war-weary,, former, mili...</td>\n",
       "      <td>[WaltDisneyPictures]</td>\n",
       "      <td>49529</td>\n",
       "      <td>[TaylorKitsch, LynnCollins, SamanthaMorton, Wi...</td>\n",
       "      <td>AndrewStanton</td>\n",
       "    </tr>\n",
       "  </tbody>\n",
       "</table>\n",
       "</div>"
      ],
      "text/plain": [
       "                                      title  \\\n",
       "0                                    Avatar   \n",
       "1  Pirates of the Caribbean: At World's End   \n",
       "2                                   Spectre   \n",
       "3                     The Dark Knight Rises   \n",
       "4                               John Carter   \n",
       "\n",
       "                                         genres  \\\n",
       "0  [Action, Adventure, Fantasy, ScienceFiction]   \n",
       "1                  [Adventure, Fantasy, Action]   \n",
       "2                    [Action, Adventure, Crime]   \n",
       "3              [Action, Crime, Drama, Thriller]   \n",
       "4           [Action, Adventure, ScienceFiction]   \n",
       "\n",
       "                                            keywords  \\\n",
       "0  [cultureclash, future, spacewar, spacecolony, ...   \n",
       "1  [ocean, drugabuse, exoticisland, eastindiatrad...   \n",
       "2  [spy, basedonnovel, secretagent, sequel, mi6, ...   \n",
       "3  [dccomics, crimefighter, terrorist, secretiden...   \n",
       "4  [basedonnovel, mars, medallion, spacetravel, p...   \n",
       "\n",
       "                                            overview  \\\n",
       "0  [In, the, 22nd, century,, a, paraplegic, Marin...   \n",
       "1  [Captain, Barbossa,, long, believed, to, be, d...   \n",
       "2  [A, cryptic, message, from, Bond’s, past, send...   \n",
       "3  [Following, the, death, of, District, Attorney...   \n",
       "4  [John, Carter, is, a, war-weary,, former, mili...   \n",
       "\n",
       "                                production_companies  movie_id  \\\n",
       "0  [IngeniousFilmPartners, TwentiethCenturyFoxFil...     19995   \n",
       "1  [WaltDisneyPictures, JerryBruckheimerFilms, Se...       285   \n",
       "2                    [ColumbiaPictures, Danjaq, B24]    206647   \n",
       "3  [LegendaryPictures, WarnerBros., DCEntertainme...     49026   \n",
       "4                               [WaltDisneyPictures]     49529   \n",
       "\n",
       "                                                cast              crew  \n",
       "0  [SamWorthington, ZoeSaldana, SigourneyWeaver, ...      JamesCameron  \n",
       "1  [JohnnyDepp, OrlandoBloom, KeiraKnightley, Ste...     GoreVerbinski  \n",
       "2  [DanielCraig, ChristophWaltz, LéaSeydoux, Ralp...         SamMendes  \n",
       "3  [ChristianBale, MichaelCaine, GaryOldman, Anne...  ChristopherNolan  \n",
       "4  [TaylorKitsch, LynnCollins, SamanthaMorton, Wi...     AndrewStanton  "
      ]
     },
     "execution_count": 83,
     "metadata": {},
     "output_type": "execute_result"
    }
   ],
   "source": [
    "for i in movies.columns:\n",
    "    if i in [\"title\", \"overview\", \"movie_id\"]:\n",
    "        continue\n",
    "    if i == \"crew\":\n",
    "        movies[i] = movies[i].apply(lambda x: x.replace(\" \", \"\"))\n",
    "        continue\n",
    "    movies[i] = movies[i].apply(lambda x: [t.replace(\" \", \"\") for t in x])\n",
    "    \n",
    "movies.head() "
   ]
  },
  {
   "cell_type": "code",
   "execution_count": 84,
   "id": "1dfecb5d-499d-48f5-9873-ddc6075a919e",
   "metadata": {},
   "outputs": [],
   "source": [
    "movies.crew = movies.crew.apply(lambda x: [x])"
   ]
  },
  {
   "cell_type": "code",
   "execution_count": 85,
   "id": "4a095cf5-aba0-4a24-af59-956d46588e62",
   "metadata": {},
   "outputs": [
    {
     "data": {
      "text/html": [
       "<div>\n",
       "<style scoped>\n",
       "    .dataframe tbody tr th:only-of-type {\n",
       "        vertical-align: middle;\n",
       "    }\n",
       "\n",
       "    .dataframe tbody tr th {\n",
       "        vertical-align: top;\n",
       "    }\n",
       "\n",
       "    .dataframe thead th {\n",
       "        text-align: right;\n",
       "    }\n",
       "</style>\n",
       "<table border=\"1\" class=\"dataframe\">\n",
       "  <thead>\n",
       "    <tr style=\"text-align: right;\">\n",
       "      <th></th>\n",
       "      <th>title</th>\n",
       "      <th>genres</th>\n",
       "      <th>keywords</th>\n",
       "      <th>overview</th>\n",
       "      <th>production_companies</th>\n",
       "      <th>movie_id</th>\n",
       "      <th>cast</th>\n",
       "      <th>crew</th>\n",
       "      <th>tags</th>\n",
       "    </tr>\n",
       "  </thead>\n",
       "  <tbody>\n",
       "    <tr>\n",
       "      <th>0</th>\n",
       "      <td>Avatar</td>\n",
       "      <td>[Action, Adventure, Fantasy, ScienceFiction]</td>\n",
       "      <td>[cultureclash, future, spacewar, spacecolony, ...</td>\n",
       "      <td>[In, the, 22nd, century,, a, paraplegic, Marin...</td>\n",
       "      <td>[IngeniousFilmPartners, TwentiethCenturyFoxFil...</td>\n",
       "      <td>19995</td>\n",
       "      <td>[SamWorthington, ZoeSaldana, SigourneyWeaver, ...</td>\n",
       "      <td>[JamesCameron]</td>\n",
       "      <td>[Action, Adventure, Fantasy, ScienceFiction, c...</td>\n",
       "    </tr>\n",
       "  </tbody>\n",
       "</table>\n",
       "</div>"
      ],
      "text/plain": [
       "    title                                        genres  \\\n",
       "0  Avatar  [Action, Adventure, Fantasy, ScienceFiction]   \n",
       "\n",
       "                                            keywords  \\\n",
       "0  [cultureclash, future, spacewar, spacecolony, ...   \n",
       "\n",
       "                                            overview  \\\n",
       "0  [In, the, 22nd, century,, a, paraplegic, Marin...   \n",
       "\n",
       "                                production_companies  movie_id  \\\n",
       "0  [IngeniousFilmPartners, TwentiethCenturyFoxFil...     19995   \n",
       "\n",
       "                                                cast            crew  \\\n",
       "0  [SamWorthington, ZoeSaldana, SigourneyWeaver, ...  [JamesCameron]   \n",
       "\n",
       "                                                tags  \n",
       "0  [Action, Adventure, Fantasy, ScienceFiction, c...  "
      ]
     },
     "execution_count": 85,
     "metadata": {},
     "output_type": "execute_result"
    }
   ],
   "source": [
    "movies[\"tags\"] = movies.genres + movies.keywords + movies.overview + movies.cast + movies.crew + movies.production_companies\n",
    "movies.head(1)"
   ]
  },
  {
   "cell_type": "code",
   "execution_count": 86,
   "id": "8154b87c-7b53-43ff-b479-8a4828e6514d",
   "metadata": {},
   "outputs": [
    {
     "data": {
      "text/html": [
       "<div>\n",
       "<style scoped>\n",
       "    .dataframe tbody tr th:only-of-type {\n",
       "        vertical-align: middle;\n",
       "    }\n",
       "\n",
       "    .dataframe tbody tr th {\n",
       "        vertical-align: top;\n",
       "    }\n",
       "\n",
       "    .dataframe thead th {\n",
       "        text-align: right;\n",
       "    }\n",
       "</style>\n",
       "<table border=\"1\" class=\"dataframe\">\n",
       "  <thead>\n",
       "    <tr style=\"text-align: right;\">\n",
       "      <th></th>\n",
       "      <th>title</th>\n",
       "      <th>movie_id</th>\n",
       "      <th>tags</th>\n",
       "    </tr>\n",
       "  </thead>\n",
       "  <tbody>\n",
       "    <tr>\n",
       "      <th>0</th>\n",
       "      <td>Avatar</td>\n",
       "      <td>19995</td>\n",
       "      <td>[Action, Adventure, Fantasy, ScienceFiction, c...</td>\n",
       "    </tr>\n",
       "    <tr>\n",
       "      <th>1</th>\n",
       "      <td>Pirates of the Caribbean: At World's End</td>\n",
       "      <td>285</td>\n",
       "      <td>[Adventure, Fantasy, Action, ocean, drugabuse,...</td>\n",
       "    </tr>\n",
       "    <tr>\n",
       "      <th>2</th>\n",
       "      <td>Spectre</td>\n",
       "      <td>206647</td>\n",
       "      <td>[Action, Adventure, Crime, spy, basedonnovel, ...</td>\n",
       "    </tr>\n",
       "    <tr>\n",
       "      <th>3</th>\n",
       "      <td>The Dark Knight Rises</td>\n",
       "      <td>49026</td>\n",
       "      <td>[Action, Crime, Drama, Thriller, dccomics, cri...</td>\n",
       "    </tr>\n",
       "    <tr>\n",
       "      <th>4</th>\n",
       "      <td>John Carter</td>\n",
       "      <td>49529</td>\n",
       "      <td>[Action, Adventure, ScienceFiction, basedonnov...</td>\n",
       "    </tr>\n",
       "    <tr>\n",
       "      <th>...</th>\n",
       "      <td>...</td>\n",
       "      <td>...</td>\n",
       "      <td>...</td>\n",
       "    </tr>\n",
       "    <tr>\n",
       "      <th>4804</th>\n",
       "      <td>El Mariachi</td>\n",
       "      <td>9367</td>\n",
       "      <td>[Action, Crime, Thriller, unitedstates–mexicob...</td>\n",
       "    </tr>\n",
       "    <tr>\n",
       "      <th>4805</th>\n",
       "      <td>Newlyweds</td>\n",
       "      <td>72766</td>\n",
       "      <td>[Comedy, Romance, A, newlywed, couple's, honey...</td>\n",
       "    </tr>\n",
       "    <tr>\n",
       "      <th>4806</th>\n",
       "      <td>Signed, Sealed, Delivered</td>\n",
       "      <td>231617</td>\n",
       "      <td>[Comedy, Drama, Romance, TVMovie, date, loveat...</td>\n",
       "    </tr>\n",
       "    <tr>\n",
       "      <th>4807</th>\n",
       "      <td>Shanghai Calling</td>\n",
       "      <td>126186</td>\n",
       "      <td>[When, ambitious, New, York, attorney, Sam, is...</td>\n",
       "    </tr>\n",
       "    <tr>\n",
       "      <th>4808</th>\n",
       "      <td>My Date with Drew</td>\n",
       "      <td>25975</td>\n",
       "      <td>[Documentary, obsession, camcorder, crush, dre...</td>\n",
       "    </tr>\n",
       "  </tbody>\n",
       "</table>\n",
       "<p>4809 rows × 3 columns</p>\n",
       "</div>"
      ],
      "text/plain": [
       "                                         title  movie_id  \\\n",
       "0                                       Avatar     19995   \n",
       "1     Pirates of the Caribbean: At World's End       285   \n",
       "2                                      Spectre    206647   \n",
       "3                        The Dark Knight Rises     49026   \n",
       "4                                  John Carter     49529   \n",
       "...                                        ...       ...   \n",
       "4804                               El Mariachi      9367   \n",
       "4805                                 Newlyweds     72766   \n",
       "4806                 Signed, Sealed, Delivered    231617   \n",
       "4807                          Shanghai Calling    126186   \n",
       "4808                         My Date with Drew     25975   \n",
       "\n",
       "                                                   tags  \n",
       "0     [Action, Adventure, Fantasy, ScienceFiction, c...  \n",
       "1     [Adventure, Fantasy, Action, ocean, drugabuse,...  \n",
       "2     [Action, Adventure, Crime, spy, basedonnovel, ...  \n",
       "3     [Action, Crime, Drama, Thriller, dccomics, cri...  \n",
       "4     [Action, Adventure, ScienceFiction, basedonnov...  \n",
       "...                                                 ...  \n",
       "4804  [Action, Crime, Thriller, unitedstates–mexicob...  \n",
       "4805  [Comedy, Romance, A, newlywed, couple's, honey...  \n",
       "4806  [Comedy, Drama, Romance, TVMovie, date, loveat...  \n",
       "4807  [When, ambitious, New, York, attorney, Sam, is...  \n",
       "4808  [Documentary, obsession, camcorder, crush, dre...  \n",
       "\n",
       "[4809 rows x 3 columns]"
      ]
     },
     "execution_count": 86,
     "metadata": {},
     "output_type": "execute_result"
    }
   ],
   "source": [
    "data = movies[[\"title\", \"movie_id\", \"tags\"]].copy()\n",
    "data"
   ]
  },
  {
   "cell_type": "code",
   "execution_count": 87,
   "id": "5ad83c99-ae1e-4a13-b869-76734be557be",
   "metadata": {},
   "outputs": [],
   "source": [
    "data.tags = data.tags.apply(lambda x : \" \".join(x))"
   ]
  },
  {
   "cell_type": "code",
   "execution_count": 88,
   "id": "f12462a4-0e82-4a12-ad9d-1bd5fe3316d4",
   "metadata": {},
   "outputs": [
    {
     "data": {
      "text/html": [
       "<div>\n",
       "<style scoped>\n",
       "    .dataframe tbody tr th:only-of-type {\n",
       "        vertical-align: middle;\n",
       "    }\n",
       "\n",
       "    .dataframe tbody tr th {\n",
       "        vertical-align: top;\n",
       "    }\n",
       "\n",
       "    .dataframe thead th {\n",
       "        text-align: right;\n",
       "    }\n",
       "</style>\n",
       "<table border=\"1\" class=\"dataframe\">\n",
       "  <thead>\n",
       "    <tr style=\"text-align: right;\">\n",
       "      <th></th>\n",
       "      <th>title</th>\n",
       "      <th>movie_id</th>\n",
       "      <th>tags</th>\n",
       "    </tr>\n",
       "  </thead>\n",
       "  <tbody>\n",
       "    <tr>\n",
       "      <th>0</th>\n",
       "      <td>Avatar</td>\n",
       "      <td>19995</td>\n",
       "      <td>Action Adventure Fantasy ScienceFiction cultur...</td>\n",
       "    </tr>\n",
       "    <tr>\n",
       "      <th>1</th>\n",
       "      <td>Pirates of the Caribbean: At World's End</td>\n",
       "      <td>285</td>\n",
       "      <td>Adventure Fantasy Action ocean drugabuse exoti...</td>\n",
       "    </tr>\n",
       "    <tr>\n",
       "      <th>2</th>\n",
       "      <td>Spectre</td>\n",
       "      <td>206647</td>\n",
       "      <td>Action Adventure Crime spy basedonnovel secret...</td>\n",
       "    </tr>\n",
       "    <tr>\n",
       "      <th>3</th>\n",
       "      <td>The Dark Knight Rises</td>\n",
       "      <td>49026</td>\n",
       "      <td>Action Crime Drama Thriller dccomics crimefigh...</td>\n",
       "    </tr>\n",
       "    <tr>\n",
       "      <th>4</th>\n",
       "      <td>John Carter</td>\n",
       "      <td>49529</td>\n",
       "      <td>Action Adventure ScienceFiction basedonnovel m...</td>\n",
       "    </tr>\n",
       "  </tbody>\n",
       "</table>\n",
       "</div>"
      ],
      "text/plain": [
       "                                      title  movie_id  \\\n",
       "0                                    Avatar     19995   \n",
       "1  Pirates of the Caribbean: At World's End       285   \n",
       "2                                   Spectre    206647   \n",
       "3                     The Dark Knight Rises     49026   \n",
       "4                               John Carter     49529   \n",
       "\n",
       "                                                tags  \n",
       "0  Action Adventure Fantasy ScienceFiction cultur...  \n",
       "1  Adventure Fantasy Action ocean drugabuse exoti...  \n",
       "2  Action Adventure Crime spy basedonnovel secret...  \n",
       "3  Action Crime Drama Thriller dccomics crimefigh...  \n",
       "4  Action Adventure ScienceFiction basedonnovel m...  "
      ]
     },
     "execution_count": 88,
     "metadata": {},
     "output_type": "execute_result"
    }
   ],
   "source": [
    "data.head()"
   ]
  },
  {
   "cell_type": "code",
   "execution_count": 89,
   "id": "9973ecd8-f231-4356-833f-48448717b764",
   "metadata": {},
   "outputs": [],
   "source": [
    "from nltk.stem.porter import PorterStemmer\n",
    "ps = PorterStemmer()"
   ]
  },
  {
   "cell_type": "code",
   "execution_count": 90,
   "id": "eade16df-fdec-4401-be4e-7a1e215c7aad",
   "metadata": {},
   "outputs": [],
   "source": [
    "def fun_stem(text):\n",
    "    ans = []\n",
    "    for i in text.split(\" \"):\n",
    "        ans.append(ps.stem(i))\n",
    "    return \" \".join(ans)"
   ]
  },
  {
   "cell_type": "code",
   "execution_count": 91,
   "id": "02d877a4-1a11-4662-99d8-c5e5b6909e97",
   "metadata": {},
   "outputs": [],
   "source": [
    "data.tags = data.tags.apply(fun_stem)"
   ]
  },
  {
   "cell_type": "markdown",
   "id": "9bacb53f-7467-431c-ae3c-50b33e32e5c6",
   "metadata": {},
   "source": [
    "# Model Training"
   ]
  },
  {
   "cell_type": "code",
   "execution_count": 92,
   "id": "d40575ae-71e2-43ea-910c-eaeb9cda10fd",
   "metadata": {},
   "outputs": [
    {
     "data": {
      "text/plain": [
       "'action adventur fantasi sciencefict cultureclash futur spacewar spacecoloni societi spacetravel futurist romanc space alien tribe alienplanet cgi marin soldier battl loveaffair antiwar powerrel mindandsoul 3d in the 22nd century, a parapleg marin is dispatch to the moon pandora on a uniqu mission, but becom torn between follow order and protect an alien civilization. samworthington zoesaldana sigourneyweav stephenlang michellerodriguez jamescameron ingeniousfilmpartn twentiethcenturyfoxfilmcorpor duneentertain lightstormentertain'"
      ]
     },
     "execution_count": 92,
     "metadata": {},
     "output_type": "execute_result"
    }
   ],
   "source": [
    "data.tags[0]"
   ]
  },
  {
   "cell_type": "code",
   "execution_count": 93,
   "id": "e4d1136d-8d39-4547-9405-b47478b4dfb6",
   "metadata": {},
   "outputs": [],
   "source": [
    "from sklearn.feature_extraction.text import CountVectorizer\n",
    "cv = CountVectorizer(max_features=5000, stop_words=\"english\")"
   ]
  },
  {
   "cell_type": "code",
   "execution_count": 94,
   "id": "03ff430a-4c84-40c3-bf1d-02cd91c678ae",
   "metadata": {},
   "outputs": [],
   "source": [
    "vectors = cv.fit_transform(data.tags).toarray()"
   ]
  },
  {
   "cell_type": "code",
   "execution_count": 95,
   "id": "39e73752-908b-4889-83a4-a483327f31a8",
   "metadata": {},
   "outputs": [
    {
     "data": {
      "text/plain": [
       "array([[0, 0, 0, ..., 0, 0, 0],\n",
       "       [0, 0, 0, ..., 0, 0, 0],\n",
       "       [0, 0, 0, ..., 0, 0, 0],\n",
       "       ...,\n",
       "       [0, 0, 0, ..., 0, 0, 0],\n",
       "       [0, 0, 0, ..., 0, 0, 0],\n",
       "       [0, 0, 0, ..., 0, 0, 0]], dtype=int64)"
      ]
     },
     "execution_count": 95,
     "metadata": {},
     "output_type": "execute_result"
    }
   ],
   "source": [
    "vectors"
   ]
  },
  {
   "cell_type": "code",
   "execution_count": 96,
   "id": "d6c6f48b-cc4f-487b-ab38-2c26976287df",
   "metadata": {},
   "outputs": [
    {
     "data": {
      "text/plain": [
       "array(['000', '007', '10', '100', '11', '12', '13', '14', '1492pictur',\n",
       "       '15', '16', '17', '18', '18th', '19', '1910', '1920', '1930',\n",
       "       '1940', '1950', '1950s', '1960', '1960s', '1970', '1970s', '1980',\n",
       "       '1985', '1990', '19th', '19thcenturi', '20', '200', '2009', '20th',\n",
       "       '21lapsentertain', '24', '25', '2929product', '30', '300',\n",
       "       '3artsentertain', '3d', '40', '40acres', '50', '500', '60', '70',\n",
       "       'a24', 'aaron', 'aaroneckhart', 'aarontaylor', 'abandon', 'abduct',\n",
       "       'abigailbreslin', 'abil', 'abl', 'aboard', 'abov', 'abus',\n",
       "       'academi', 'accept', 'access', 'accid', 'accident', 'acclaim',\n",
       "       'accompani', 'accomplish', 'account', 'accus', 'ace', 'achiev',\n",
       "       'act', 'action', 'actionhero', 'activ', 'activist', 'activities',\n",
       "       'actor', 'actress', 'actual', 'adam', 'adambrodi', 'adamsandl',\n",
       "       'adamscott', 'adamshankman', 'adapt', 'add', 'addict', 'adjust',\n",
       "       'admir', 'admit', 'adolesc', 'adopt', 'ador', 'adrienbrodi',\n",
       "       'adult', 'adulteri', 'adulthood', 'advanc'], dtype=object)"
      ]
     },
     "execution_count": 96,
     "metadata": {},
     "output_type": "execute_result"
    }
   ],
   "source": [
    "cv.get_feature_names_out()[:100]"
   ]
  },
  {
   "cell_type": "code",
   "execution_count": 97,
   "id": "6ea037b4-3127-4dc5-87e7-be2733c1b049",
   "metadata": {},
   "outputs": [],
   "source": [
    "from sklearn.metrics.pairwise import cosine_similarity"
   ]
  },
  {
   "cell_type": "code",
   "execution_count": 98,
   "id": "91b7fde9-21f1-48ba-a8d1-1f5defdde8a6",
   "metadata": {},
   "outputs": [
    {
     "data": {
      "text/plain": [
       "array([[1.        , 0.07694838, 0.08134892, ..., 0.04472136, 0.        ,\n",
       "        0.        ],\n",
       "       [0.07694838, 1.        , 0.05564149, ..., 0.02294157, 0.        ,\n",
       "        0.02473853],\n",
       "       [0.08134892, 0.05564149, 1.        , ..., 0.02425356, 0.        ,\n",
       "        0.        ],\n",
       "       ...,\n",
       "       [0.04472136, 0.02294157, 0.02425356, ..., 1.        , 0.04264014,\n",
       "        0.04313311],\n",
       "       [0.        , 0.        , 0.        , ..., 0.04264014, 1.        ,\n",
       "        0.0919601 ],\n",
       "       [0.        , 0.02473853, 0.        , ..., 0.04313311, 0.0919601 ,\n",
       "        1.        ]])"
      ]
     },
     "execution_count": 98,
     "metadata": {},
     "output_type": "execute_result"
    }
   ],
   "source": [
    "similarity = cosine_similarity(vectors)\n",
    "similarity"
   ]
  },
  {
   "cell_type": "code",
   "execution_count": 99,
   "id": "30f5e0d6-afcf-4c6c-90f7-ee4639ff9390",
   "metadata": {},
   "outputs": [
    {
     "data": {
      "text/plain": [
       "array([[1.        , 0.07694838, 0.08134892, ..., 0.04472136, 0.        ,\n",
       "        0.        ],\n",
       "       [0.07694838, 1.        , 0.05564149, ..., 0.02294157, 0.        ,\n",
       "        0.02473853],\n",
       "       [0.08134892, 0.05564149, 1.        , ..., 0.02425356, 0.        ,\n",
       "        0.        ],\n",
       "       ...,\n",
       "       [0.04472136, 0.02294157, 0.02425356, ..., 1.        , 0.04264014,\n",
       "        0.04313311],\n",
       "       [0.        , 0.        , 0.        , ..., 0.04264014, 1.        ,\n",
       "        0.0919601 ],\n",
       "       [0.        , 0.02473853, 0.        , ..., 0.04313311, 0.0919601 ,\n",
       "        1.        ]])"
      ]
     },
     "execution_count": 99,
     "metadata": {},
     "output_type": "execute_result"
    }
   ],
   "source": [
    "similarity"
   ]
  },
  {
   "cell_type": "code",
   "execution_count": 100,
   "id": "dcbe4c4e-d58e-4f63-9f1a-04eba02b9aed",
   "metadata": {},
   "outputs": [
    {
     "data": {
      "text/plain": [
       "array([1.        , 0.07694838, 0.08134892, ..., 0.04472136, 0.        ,\n",
       "       0.        ])"
      ]
     },
     "execution_count": 100,
     "metadata": {},
     "output_type": "execute_result"
    }
   ],
   "source": [
    "similarity[0]"
   ]
  },
  {
   "cell_type": "code",
   "execution_count": 101,
   "id": "31077263-b675-4d7a-9996-06009b6ebac9",
   "metadata": {},
   "outputs": [
    {
     "data": {
      "text/plain": [
       "(4809, 4809)"
      ]
     },
     "execution_count": 101,
     "metadata": {},
     "output_type": "execute_result"
    }
   ],
   "source": [
    "similarity.shape"
   ]
  },
  {
   "cell_type": "code",
   "execution_count": 102,
   "id": "a02d1ae1-16cf-4861-a39d-379fcc9f2cb6",
   "metadata": {},
   "outputs": [
    {
     "data": {
      "text/plain": [
       "[(0, 1.0000000000000002),\n",
       " (1214, 0.31246621438986827),\n",
       " (507, 0.267600765117601),\n",
       " (539, 0.25993762245501817),\n",
       " (778, 0.25819888974716115),\n",
       " (2405, 0.25643882226608633),\n",
       " (61, 0.2480694691784169),\n",
       " (3729, 0.24748737341529164),\n",
       " (582, 0.23241742005034208),\n",
       " (1202, 0.23063280200722128),\n",
       " (4047, 0.21622499104693413),\n",
       " (2329, 0.21516574145596762),\n",
       " (1087, 0.21483446221182986),\n",
       " (1916, 0.2145290825802583),\n",
       " (220, 0.21380899352993948),\n",
       " (1192, 0.21300321680756462),\n",
       " (74, 0.21128856368212912),\n",
       " (2783, 0.20916500663351886),\n",
       " (577, 0.20519567041703082),\n",
       " (942, 0.20124611797498107)]"
      ]
     },
     "execution_count": 102,
     "metadata": {},
     "output_type": "execute_result"
    }
   ],
   "source": [
    "sorted(list(enumerate(similarity[0])), key= lambda X : X[1], reverse=True)[:20]"
   ]
  },
  {
   "cell_type": "code",
   "execution_count": 104,
   "id": "af8aa0ad-8dc5-4045-80ab-6f414fee043a",
   "metadata": {},
   "outputs": [],
   "source": [
    "def recommend(movie):\n",
    "    idx = data.title[data.title == movie].index[0]\n",
    "    distance = similarity[idx]\n",
    "    movies_idx_list = sorted(list(enumerate(distance)), reverse=True, key=lambda x:x[1])[1:6]\n",
    "    for i in movies_idx_list:\n",
    "        print(data.title[i[0]])"
   ]
  },
  {
   "cell_type": "code",
   "execution_count": 105,
   "id": "0a875e02-69d8-4cbc-afa8-6e3cb95af94a",
   "metadata": {},
   "outputs": [
    {
     "data": {
      "text/plain": [
       "[(1214, 0.31246621438986827),\n",
       " (507, 0.267600765117601),\n",
       " (539, 0.25993762245501817),\n",
       " (778, 0.25819888974716115),\n",
       " (2405, 0.25643882226608633)]"
      ]
     },
     "execution_count": 105,
     "metadata": {},
     "output_type": "execute_result"
    }
   ],
   "source": [
    "values = sorted(enumerate(similarity[0]), reverse=True, key=lambda x:x[1])[1:6]\n",
    "values"
   ]
  },
  {
   "cell_type": "code",
   "execution_count": 106,
   "id": "ded587ca-964b-44bb-a85d-5845ee365239",
   "metadata": {},
   "outputs": [
    {
     "name": "stdout",
     "output_type": "stream",
     "text": [
      "Avatar\n",
      "Aliens vs Predator: Requiem\n",
      "Independence Day\n",
      "Titan A.E.\n",
      "Meet Dave\n",
      "Aliens\n"
     ]
    }
   ],
   "source": [
    "n = data.title[0]\n",
    "print(n)\n",
    "recommend(n)"
   ]
  },
  {
   "cell_type": "code",
   "execution_count": 107,
   "id": "ed954879-cad1-4312-948e-cf6c6a52cca1",
   "metadata": {},
   "outputs": [],
   "source": [
    "def similar_movie_list(index):\n",
    "    return [i[0] for i in sorted(list(enumerate(similarity[index])), key=lambda X : X[1], reverse=True)[:20]]"
   ]
  },
  {
   "cell_type": "code",
   "execution_count": 108,
   "id": "fdb5f00d-40fd-4fea-bc28-b973991ef634",
   "metadata": {},
   "outputs": [],
   "source": [
    "optimized_data = data.copy()"
   ]
  },
  {
   "cell_type": "code",
   "execution_count": 109,
   "id": "9f6fe04f-083d-49b1-849b-173d4c4ff4e5",
   "metadata": {},
   "outputs": [],
   "source": [
    "optimized_data[\"recommend_index\"] = [i for i in range(data.shape[0])]"
   ]
  },
  {
   "cell_type": "code",
   "execution_count": 111,
   "id": "d8e1adca-5760-40b0-947e-faa261e3872d",
   "metadata": {},
   "outputs": [],
   "source": [
    "optimized_data['recommend_index'] = optimized_data['recommend_index'].apply(similar_movie_list)"
   ]
  },
  {
   "cell_type": "code",
   "execution_count": 126,
   "id": "3b7a2f97-e8ac-4874-a5f0-821db0d48021",
   "metadata": {},
   "outputs": [],
   "source": [
    "def new_recommend(movie):\n",
    "    idx = optimized_data.title[optimized_data.title == movie].index[0]\n",
    "    index_list = optimized_data.recommend_index[idx]\n",
    "    for i in index_list[1:8]:\n",
    "        print(optimized_data['title'][i])"
   ]
  },
  {
   "cell_type": "code",
   "execution_count": 127,
   "id": "1d454588-9123-4380-8cc5-3e0c6c52e901",
   "metadata": {},
   "outputs": [
    {
     "name": "stdout",
     "output_type": "stream",
     "text": [
      "Aliens vs Predator: Requiem\n",
      "Independence Day\n",
      "Titan A.E.\n",
      "Meet Dave\n",
      "Aliens\n",
      "Jupiter Ascending\n",
      "Falcon Rising\n"
     ]
    }
   ],
   "source": [
    "new_recommend('Avatar')"
   ]
  },
  {
   "cell_type": "code",
   "execution_count": 112,
   "id": "fd1a593c-26b3-4c77-a7c7-c3da1d0558b8",
   "metadata": {},
   "outputs": [
    {
     "data": {
      "text/html": [
       "<div>\n",
       "<style scoped>\n",
       "    .dataframe tbody tr th:only-of-type {\n",
       "        vertical-align: middle;\n",
       "    }\n",
       "\n",
       "    .dataframe tbody tr th {\n",
       "        vertical-align: top;\n",
       "    }\n",
       "\n",
       "    .dataframe thead th {\n",
       "        text-align: right;\n",
       "    }\n",
       "</style>\n",
       "<table border=\"1\" class=\"dataframe\">\n",
       "  <thead>\n",
       "    <tr style=\"text-align: right;\">\n",
       "      <th></th>\n",
       "      <th>title</th>\n",
       "      <th>movie_id</th>\n",
       "      <th>tags</th>\n",
       "      <th>recommend_index</th>\n",
       "    </tr>\n",
       "  </thead>\n",
       "  <tbody>\n",
       "    <tr>\n",
       "      <th>0</th>\n",
       "      <td>Avatar</td>\n",
       "      <td>19995</td>\n",
       "      <td>action adventur fantasi sciencefict culturecla...</td>\n",
       "      <td>[0, 1214, 507, 539, 778, 2405, 61, 3729, 582, ...</td>\n",
       "    </tr>\n",
       "    <tr>\n",
       "      <th>1</th>\n",
       "      <td>Pirates of the Caribbean: At World's End</td>\n",
       "      <td>285</td>\n",
       "      <td>adventur fantasi action ocean drugabus exotici...</td>\n",
       "      <td>[1, 12, 199, 17, 3571, 187, 216, 2131, 848, 57...</td>\n",
       "    </tr>\n",
       "    <tr>\n",
       "      <th>2</th>\n",
       "      <td>Spectre</td>\n",
       "      <td>206647</td>\n",
       "      <td>action adventur crime spi basedonnovel secreta...</td>\n",
       "      <td>[2, 11, 29, 1344, 4076, 3339, 1745, 1719, 4345...</td>\n",
       "    </tr>\n",
       "    <tr>\n",
       "      <th>3</th>\n",
       "      <td>The Dark Knight Rises</td>\n",
       "      <td>49026</td>\n",
       "      <td>action crime drama thriller dccomic crimefight...</td>\n",
       "      <td>[3, 65, 119, 428, 1361, 299, 1360, 210, 3594, ...</td>\n",
       "    </tr>\n",
       "    <tr>\n",
       "      <th>4</th>\n",
       "      <td>John Carter</td>\n",
       "      <td>49529</td>\n",
       "      <td>action adventur sciencefict basedonnovel mar m...</td>\n",
       "      <td>[4, 3092, 1320, 3376, 610, 1255, 27, 939, 2429...</td>\n",
       "    </tr>\n",
       "  </tbody>\n",
       "</table>\n",
       "</div>"
      ],
      "text/plain": [
       "                                      title  movie_id  \\\n",
       "0                                    Avatar     19995   \n",
       "1  Pirates of the Caribbean: At World's End       285   \n",
       "2                                   Spectre    206647   \n",
       "3                     The Dark Knight Rises     49026   \n",
       "4                               John Carter     49529   \n",
       "\n",
       "                                                tags  \\\n",
       "0  action adventur fantasi sciencefict culturecla...   \n",
       "1  adventur fantasi action ocean drugabus exotici...   \n",
       "2  action adventur crime spi basedonnovel secreta...   \n",
       "3  action crime drama thriller dccomic crimefight...   \n",
       "4  action adventur sciencefict basedonnovel mar m...   \n",
       "\n",
       "                                     recommend_index  \n",
       "0  [0, 1214, 507, 539, 778, 2405, 61, 3729, 582, ...  \n",
       "1  [1, 12, 199, 17, 3571, 187, 216, 2131, 848, 57...  \n",
       "2  [2, 11, 29, 1344, 4076, 3339, 1745, 1719, 4345...  \n",
       "3  [3, 65, 119, 428, 1361, 299, 1360, 210, 3594, ...  \n",
       "4  [4, 3092, 1320, 3376, 610, 1255, 27, 939, 2429...  "
      ]
     },
     "execution_count": 112,
     "metadata": {},
     "output_type": "execute_result"
    }
   ],
   "source": [
    "optimized_data.head()"
   ]
  },
  {
   "cell_type": "code",
   "execution_count": 113,
   "id": "807b57ef-cf1f-4eb8-bd1c-2037fc8dcb6c",
   "metadata": {},
   "outputs": [
    {
     "data": {
      "text/html": [
       "<div>\n",
       "<style scoped>\n",
       "    .dataframe tbody tr th:only-of-type {\n",
       "        vertical-align: middle;\n",
       "    }\n",
       "\n",
       "    .dataframe tbody tr th {\n",
       "        vertical-align: top;\n",
       "    }\n",
       "\n",
       "    .dataframe thead th {\n",
       "        text-align: right;\n",
       "    }\n",
       "</style>\n",
       "<table border=\"1\" class=\"dataframe\">\n",
       "  <thead>\n",
       "    <tr style=\"text-align: right;\">\n",
       "      <th></th>\n",
       "      <th>title</th>\n",
       "      <th>movie_id</th>\n",
       "      <th>tags</th>\n",
       "    </tr>\n",
       "  </thead>\n",
       "  <tbody>\n",
       "    <tr>\n",
       "      <th>0</th>\n",
       "      <td>Avatar</td>\n",
       "      <td>19995</td>\n",
       "      <td>action adventur fantasi sciencefict culturecla...</td>\n",
       "    </tr>\n",
       "    <tr>\n",
       "      <th>1</th>\n",
       "      <td>Pirates of the Caribbean: At World's End</td>\n",
       "      <td>285</td>\n",
       "      <td>adventur fantasi action ocean drugabus exotici...</td>\n",
       "    </tr>\n",
       "    <tr>\n",
       "      <th>2</th>\n",
       "      <td>Spectre</td>\n",
       "      <td>206647</td>\n",
       "      <td>action adventur crime spi basedonnovel secreta...</td>\n",
       "    </tr>\n",
       "    <tr>\n",
       "      <th>3</th>\n",
       "      <td>The Dark Knight Rises</td>\n",
       "      <td>49026</td>\n",
       "      <td>action crime drama thriller dccomic crimefight...</td>\n",
       "    </tr>\n",
       "    <tr>\n",
       "      <th>4</th>\n",
       "      <td>John Carter</td>\n",
       "      <td>49529</td>\n",
       "      <td>action adventur sciencefict basedonnovel mar m...</td>\n",
       "    </tr>\n",
       "  </tbody>\n",
       "</table>\n",
       "</div>"
      ],
      "text/plain": [
       "                                      title  movie_id  \\\n",
       "0                                    Avatar     19995   \n",
       "1  Pirates of the Caribbean: At World's End       285   \n",
       "2                                   Spectre    206647   \n",
       "3                     The Dark Knight Rises     49026   \n",
       "4                               John Carter     49529   \n",
       "\n",
       "                                                tags  \n",
       "0  action adventur fantasi sciencefict culturecla...  \n",
       "1  adventur fantasi action ocean drugabus exotici...  \n",
       "2  action adventur crime spi basedonnovel secreta...  \n",
       "3  action crime drama thriller dccomic crimefight...  \n",
       "4  action adventur sciencefict basedonnovel mar m...  "
      ]
     },
     "execution_count": 113,
     "metadata": {},
     "output_type": "execute_result"
    }
   ],
   "source": [
    "data.head()"
   ]
  },
  {
   "cell_type": "code",
   "execution_count": 114,
   "id": "07b1e249-a2df-4fe8-929e-5cb2ac9851d7",
   "metadata": {},
   "outputs": [
    {
     "data": {
      "text/html": [
       "<div>\n",
       "<style scoped>\n",
       "    .dataframe tbody tr th:only-of-type {\n",
       "        vertical-align: middle;\n",
       "    }\n",
       "\n",
       "    .dataframe tbody tr th {\n",
       "        vertical-align: top;\n",
       "    }\n",
       "\n",
       "    .dataframe thead th {\n",
       "        text-align: right;\n",
       "    }\n",
       "</style>\n",
       "<table border=\"1\" class=\"dataframe\">\n",
       "  <thead>\n",
       "    <tr style=\"text-align: right;\">\n",
       "      <th></th>\n",
       "      <th>0</th>\n",
       "      <th>1</th>\n",
       "      <th>2</th>\n",
       "      <th>3</th>\n",
       "      <th>4</th>\n",
       "      <th>5</th>\n",
       "      <th>6</th>\n",
       "      <th>7</th>\n",
       "      <th>8</th>\n",
       "      <th>9</th>\n",
       "      <th>...</th>\n",
       "      <th>4799</th>\n",
       "      <th>4800</th>\n",
       "      <th>4801</th>\n",
       "      <th>4802</th>\n",
       "      <th>4803</th>\n",
       "      <th>4804</th>\n",
       "      <th>4805</th>\n",
       "      <th>4806</th>\n",
       "      <th>4807</th>\n",
       "      <th>4808</th>\n",
       "    </tr>\n",
       "  </thead>\n",
       "  <tbody>\n",
       "    <tr>\n",
       "      <th>0</th>\n",
       "      <td>1.000000</td>\n",
       "      <td>0.076948</td>\n",
       "      <td>0.081349</td>\n",
       "      <td>0.069007</td>\n",
       "      <td>0.182574</td>\n",
       "      <td>0.104713</td>\n",
       "      <td>0.038633</td>\n",
       "      <td>0.136931</td>\n",
       "      <td>0.055048</td>\n",
       "      <td>0.106600</td>\n",
       "      <td>...</td>\n",
       "      <td>0.000000</td>\n",
       "      <td>0.000000</td>\n",
       "      <td>0.041169</td>\n",
       "      <td>0.051988</td>\n",
       "      <td>0.000000</td>\n",
       "      <td>0.018634</td>\n",
       "      <td>0.045644</td>\n",
       "      <td>0.044721</td>\n",
       "      <td>0.000000</td>\n",
       "      <td>0.000000</td>\n",
       "    </tr>\n",
       "    <tr>\n",
       "      <th>1</th>\n",
       "      <td>0.076948</td>\n",
       "      <td>1.000000</td>\n",
       "      <td>0.055641</td>\n",
       "      <td>0.035400</td>\n",
       "      <td>0.093659</td>\n",
       "      <td>0.107434</td>\n",
       "      <td>0.039637</td>\n",
       "      <td>0.117073</td>\n",
       "      <td>0.056478</td>\n",
       "      <td>0.087496</td>\n",
       "      <td>...</td>\n",
       "      <td>0.000000</td>\n",
       "      <td>0.000000</td>\n",
       "      <td>0.021119</td>\n",
       "      <td>0.026669</td>\n",
       "      <td>0.000000</td>\n",
       "      <td>0.038236</td>\n",
       "      <td>0.000000</td>\n",
       "      <td>0.022942</td>\n",
       "      <td>0.000000</td>\n",
       "      <td>0.024739</td>\n",
       "    </tr>\n",
       "    <tr>\n",
       "      <th>2</th>\n",
       "      <td>0.081349</td>\n",
       "      <td>0.055641</td>\n",
       "      <td>1.000000</td>\n",
       "      <td>0.056136</td>\n",
       "      <td>0.074261</td>\n",
       "      <td>0.090862</td>\n",
       "      <td>0.020952</td>\n",
       "      <td>0.123768</td>\n",
       "      <td>0.059708</td>\n",
       "      <td>0.092499</td>\n",
       "      <td>...</td>\n",
       "      <td>0.083189</td>\n",
       "      <td>0.000000</td>\n",
       "      <td>0.000000</td>\n",
       "      <td>0.000000</td>\n",
       "      <td>0.017065</td>\n",
       "      <td>0.060634</td>\n",
       "      <td>0.000000</td>\n",
       "      <td>0.024254</td>\n",
       "      <td>0.000000</td>\n",
       "      <td>0.000000</td>\n",
       "    </tr>\n",
       "    <tr>\n",
       "      <th>3</th>\n",
       "      <td>0.069007</td>\n",
       "      <td>0.035400</td>\n",
       "      <td>0.056136</td>\n",
       "      <td>1.000000</td>\n",
       "      <td>0.031497</td>\n",
       "      <td>0.057807</td>\n",
       "      <td>0.053319</td>\n",
       "      <td>0.062994</td>\n",
       "      <td>0.056980</td>\n",
       "      <td>0.220684</td>\n",
       "      <td>...</td>\n",
       "      <td>0.026463</td>\n",
       "      <td>0.027277</td>\n",
       "      <td>0.056819</td>\n",
       "      <td>0.053812</td>\n",
       "      <td>0.021713</td>\n",
       "      <td>0.064293</td>\n",
       "      <td>0.000000</td>\n",
       "      <td>0.030861</td>\n",
       "      <td>0.049346</td>\n",
       "      <td>0.083195</td>\n",
       "    </tr>\n",
       "    <tr>\n",
       "      <th>4</th>\n",
       "      <td>0.182574</td>\n",
       "      <td>0.093659</td>\n",
       "      <td>0.074261</td>\n",
       "      <td>0.031497</td>\n",
       "      <td>1.000000</td>\n",
       "      <td>0.114708</td>\n",
       "      <td>0.070535</td>\n",
       "      <td>0.187500</td>\n",
       "      <td>0.075378</td>\n",
       "      <td>0.097312</td>\n",
       "      <td>...</td>\n",
       "      <td>0.035007</td>\n",
       "      <td>0.000000</td>\n",
       "      <td>0.075165</td>\n",
       "      <td>0.023729</td>\n",
       "      <td>0.143621</td>\n",
       "      <td>0.153093</td>\n",
       "      <td>0.000000</td>\n",
       "      <td>0.020412</td>\n",
       "      <td>0.087039</td>\n",
       "      <td>0.044023</td>\n",
       "    </tr>\n",
       "    <tr>\n",
       "      <th>...</th>\n",
       "      <td>...</td>\n",
       "      <td>...</td>\n",
       "      <td>...</td>\n",
       "      <td>...</td>\n",
       "      <td>...</td>\n",
       "      <td>...</td>\n",
       "      <td>...</td>\n",
       "      <td>...</td>\n",
       "      <td>...</td>\n",
       "      <td>...</td>\n",
       "      <td>...</td>\n",
       "      <td>...</td>\n",
       "      <td>...</td>\n",
       "      <td>...</td>\n",
       "      <td>...</td>\n",
       "      <td>...</td>\n",
       "      <td>...</td>\n",
       "      <td>...</td>\n",
       "      <td>...</td>\n",
       "      <td>...</td>\n",
       "      <td>...</td>\n",
       "    </tr>\n",
       "    <tr>\n",
       "      <th>4804</th>\n",
       "      <td>0.018634</td>\n",
       "      <td>0.038236</td>\n",
       "      <td>0.060634</td>\n",
       "      <td>0.064293</td>\n",
       "      <td>0.153093</td>\n",
       "      <td>0.093659</td>\n",
       "      <td>0.028796</td>\n",
       "      <td>0.136083</td>\n",
       "      <td>0.123091</td>\n",
       "      <td>0.031782</td>\n",
       "      <td>...</td>\n",
       "      <td>0.000000</td>\n",
       "      <td>0.058926</td>\n",
       "      <td>0.138086</td>\n",
       "      <td>0.058124</td>\n",
       "      <td>0.257986</td>\n",
       "      <td>1.000000</td>\n",
       "      <td>0.000000</td>\n",
       "      <td>0.000000</td>\n",
       "      <td>0.159901</td>\n",
       "      <td>0.125805</td>\n",
       "    </tr>\n",
       "    <tr>\n",
       "      <th>4805</th>\n",
       "      <td>0.045644</td>\n",
       "      <td>0.000000</td>\n",
       "      <td>0.000000</td>\n",
       "      <td>0.000000</td>\n",
       "      <td>0.000000</td>\n",
       "      <td>0.000000</td>\n",
       "      <td>0.000000</td>\n",
       "      <td>0.000000</td>\n",
       "      <td>0.000000</td>\n",
       "      <td>0.000000</td>\n",
       "      <td>...</td>\n",
       "      <td>0.000000</td>\n",
       "      <td>0.072169</td>\n",
       "      <td>0.000000</td>\n",
       "      <td>0.000000</td>\n",
       "      <td>0.028724</td>\n",
       "      <td>0.000000</td>\n",
       "      <td>1.000000</td>\n",
       "      <td>0.122474</td>\n",
       "      <td>0.000000</td>\n",
       "      <td>0.000000</td>\n",
       "    </tr>\n",
       "    <tr>\n",
       "      <th>4806</th>\n",
       "      <td>0.044721</td>\n",
       "      <td>0.022942</td>\n",
       "      <td>0.024254</td>\n",
       "      <td>0.030861</td>\n",
       "      <td>0.020412</td>\n",
       "      <td>0.018732</td>\n",
       "      <td>0.000000</td>\n",
       "      <td>0.000000</td>\n",
       "      <td>0.049237</td>\n",
       "      <td>0.019069</td>\n",
       "      <td>...</td>\n",
       "      <td>0.068599</td>\n",
       "      <td>0.035355</td>\n",
       "      <td>0.018411</td>\n",
       "      <td>0.046499</td>\n",
       "      <td>0.014072</td>\n",
       "      <td>0.000000</td>\n",
       "      <td>0.122474</td>\n",
       "      <td>1.000000</td>\n",
       "      <td>0.042640</td>\n",
       "      <td>0.043133</td>\n",
       "    </tr>\n",
       "    <tr>\n",
       "      <th>4807</th>\n",
       "      <td>0.000000</td>\n",
       "      <td>0.000000</td>\n",
       "      <td>0.000000</td>\n",
       "      <td>0.049346</td>\n",
       "      <td>0.087039</td>\n",
       "      <td>0.059904</td>\n",
       "      <td>0.036835</td>\n",
       "      <td>0.043519</td>\n",
       "      <td>0.104973</td>\n",
       "      <td>0.020328</td>\n",
       "      <td>...</td>\n",
       "      <td>0.000000</td>\n",
       "      <td>0.037689</td>\n",
       "      <td>0.098134</td>\n",
       "      <td>0.000000</td>\n",
       "      <td>0.150008</td>\n",
       "      <td>0.159901</td>\n",
       "      <td>0.000000</td>\n",
       "      <td>0.042640</td>\n",
       "      <td>1.000000</td>\n",
       "      <td>0.091960</td>\n",
       "    </tr>\n",
       "    <tr>\n",
       "      <th>4808</th>\n",
       "      <td>0.000000</td>\n",
       "      <td>0.024739</td>\n",
       "      <td>0.000000</td>\n",
       "      <td>0.083195</td>\n",
       "      <td>0.044023</td>\n",
       "      <td>0.040398</td>\n",
       "      <td>0.000000</td>\n",
       "      <td>0.044023</td>\n",
       "      <td>0.106186</td>\n",
       "      <td>0.020563</td>\n",
       "      <td>...</td>\n",
       "      <td>0.000000</td>\n",
       "      <td>0.000000</td>\n",
       "      <td>0.039707</td>\n",
       "      <td>0.025071</td>\n",
       "      <td>0.075871</td>\n",
       "      <td>0.125805</td>\n",
       "      <td>0.000000</td>\n",
       "      <td>0.043133</td>\n",
       "      <td>0.091960</td>\n",
       "      <td>1.000000</td>\n",
       "    </tr>\n",
       "  </tbody>\n",
       "</table>\n",
       "<p>4809 rows × 4809 columns</p>\n",
       "</div>"
      ],
      "text/plain": [
       "          0         1         2         3         4         5         6     \\\n",
       "0     1.000000  0.076948  0.081349  0.069007  0.182574  0.104713  0.038633   \n",
       "1     0.076948  1.000000  0.055641  0.035400  0.093659  0.107434  0.039637   \n",
       "2     0.081349  0.055641  1.000000  0.056136  0.074261  0.090862  0.020952   \n",
       "3     0.069007  0.035400  0.056136  1.000000  0.031497  0.057807  0.053319   \n",
       "4     0.182574  0.093659  0.074261  0.031497  1.000000  0.114708  0.070535   \n",
       "...        ...       ...       ...       ...       ...       ...       ...   \n",
       "4804  0.018634  0.038236  0.060634  0.064293  0.153093  0.093659  0.028796   \n",
       "4805  0.045644  0.000000  0.000000  0.000000  0.000000  0.000000  0.000000   \n",
       "4806  0.044721  0.022942  0.024254  0.030861  0.020412  0.018732  0.000000   \n",
       "4807  0.000000  0.000000  0.000000  0.049346  0.087039  0.059904  0.036835   \n",
       "4808  0.000000  0.024739  0.000000  0.083195  0.044023  0.040398  0.000000   \n",
       "\n",
       "          7         8         9     ...      4799      4800      4801  \\\n",
       "0     0.136931  0.055048  0.106600  ...  0.000000  0.000000  0.041169   \n",
       "1     0.117073  0.056478  0.087496  ...  0.000000  0.000000  0.021119   \n",
       "2     0.123768  0.059708  0.092499  ...  0.083189  0.000000  0.000000   \n",
       "3     0.062994  0.056980  0.220684  ...  0.026463  0.027277  0.056819   \n",
       "4     0.187500  0.075378  0.097312  ...  0.035007  0.000000  0.075165   \n",
       "...        ...       ...       ...  ...       ...       ...       ...   \n",
       "4804  0.136083  0.123091  0.031782  ...  0.000000  0.058926  0.138086   \n",
       "4805  0.000000  0.000000  0.000000  ...  0.000000  0.072169  0.000000   \n",
       "4806  0.000000  0.049237  0.019069  ...  0.068599  0.035355  0.018411   \n",
       "4807  0.043519  0.104973  0.020328  ...  0.000000  0.037689  0.098134   \n",
       "4808  0.044023  0.106186  0.020563  ...  0.000000  0.000000  0.039707   \n",
       "\n",
       "          4802      4803      4804      4805      4806      4807      4808  \n",
       "0     0.051988  0.000000  0.018634  0.045644  0.044721  0.000000  0.000000  \n",
       "1     0.026669  0.000000  0.038236  0.000000  0.022942  0.000000  0.024739  \n",
       "2     0.000000  0.017065  0.060634  0.000000  0.024254  0.000000  0.000000  \n",
       "3     0.053812  0.021713  0.064293  0.000000  0.030861  0.049346  0.083195  \n",
       "4     0.023729  0.143621  0.153093  0.000000  0.020412  0.087039  0.044023  \n",
       "...        ...       ...       ...       ...       ...       ...       ...  \n",
       "4804  0.058124  0.257986  1.000000  0.000000  0.000000  0.159901  0.125805  \n",
       "4805  0.000000  0.028724  0.000000  1.000000  0.122474  0.000000  0.000000  \n",
       "4806  0.046499  0.014072  0.000000  0.122474  1.000000  0.042640  0.043133  \n",
       "4807  0.000000  0.150008  0.159901  0.000000  0.042640  1.000000  0.091960  \n",
       "4808  0.025071  0.075871  0.125805  0.000000  0.043133  0.091960  1.000000  \n",
       "\n",
       "[4809 rows x 4809 columns]"
      ]
     },
     "execution_count": 114,
     "metadata": {},
     "output_type": "execute_result"
    }
   ],
   "source": [
    "model = pd.DataFrame(similarity)\n",
    "model"
   ]
  },
  {
   "cell_type": "code",
   "execution_count": 115,
   "id": "335cc240-8e8f-4cbc-8fe1-a82a892e0e42",
   "metadata": {},
   "outputs": [],
   "source": [
    "#data.to_csv(\"movie_data.csv\")\n",
    "#model.to_csv(\"movie_model.csv\")"
   ]
  },
  {
   "cell_type": "code",
   "execution_count": 116,
   "id": "b6497539-ca5e-4377-b43c-2c5819c4c61b",
   "metadata": {},
   "outputs": [],
   "source": [
    "import pickle"
   ]
  },
  {
   "cell_type": "code",
   "execution_count": 120,
   "id": "5fc8e352-9a85-4de5-8b1b-104af152191c",
   "metadata": {},
   "outputs": [],
   "source": [
    "# pickle.dump(data.to_dict(), open('movie_dict.pkl', 'wb'))\n",
    "# pickle.dump(model.to_dict(), open('model_dict.pkl', 'wb'))\n",
    "# pickle.dump(optimized_data.to_dict(), open('optimized_movie_dict.pkl', 'wb'))"
   ]
  },
  {
   "cell_type": "code",
   "execution_count": 118,
   "id": "720e098d-d6d2-4a5a-bb20-641f06014b1d",
   "metadata": {},
   "outputs": [],
   "source": [
    "# api = https://api.themoviedb.org/3/movie/19995?api_key=d503008795377effc30c0fe86fda10c4&language=en-US"
   ]
  },
  {
   "cell_type": "code",
   "execution_count": 119,
   "id": "29caf734-61e9-4f8f-9b09-ff027db53490",
   "metadata": {},
   "outputs": [
    {
     "data": {
      "text/plain": [
       "0        19995\n",
       "1          285\n",
       "2       206647\n",
       "3        49026\n",
       "4        49529\n",
       "         ...  \n",
       "4804      9367\n",
       "4805     72766\n",
       "4806    231617\n",
       "4807    126186\n",
       "4808     25975\n",
       "Name: movie_id, Length: 4809, dtype: int64"
      ]
     },
     "execution_count": 119,
     "metadata": {},
     "output_type": "execute_result"
    }
   ],
   "source": [
    "data.movie_id"
   ]
  },
  {
   "cell_type": "code",
   "execution_count": null,
   "id": "579c7eab-d0cd-4522-a286-ed6d47a667c0",
   "metadata": {},
   "outputs": [],
   "source": []
  }
 ],
 "metadata": {
  "kernelspec": {
   "display_name": "Python 3 (ipykernel)",
   "language": "python",
   "name": "python3"
  },
  "language_info": {
   "codemirror_mode": {
    "name": "ipython",
    "version": 3
   },
   "file_extension": ".py",
   "mimetype": "text/x-python",
   "name": "python",
   "nbconvert_exporter": "python",
   "pygments_lexer": "ipython3",
   "version": "3.12.1"
  }
 },
 "nbformat": 4,
 "nbformat_minor": 5
}
